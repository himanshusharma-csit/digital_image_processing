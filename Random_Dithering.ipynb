{
 "cells": [
  {
   "cell_type": "code",
   "execution_count": 93,
   "metadata": {
    "collapsed": false
   },
   "outputs": [],
   "source": [
    "#Python Program to Implement Random Dithering\n",
    "#Programmer Name: Himanshu Sharma\n",
    "#Program Date: 17/03/2021\n",
    "#Program Time: 03:20PM\n",
    "\n",
    "import numpy as np\n",
    "import matplotlib.pyplot as plt\n",
    "import cv2 as cv\n",
    "\n",
    "#np.random.seed(100)\n",
    "\n",
    "lenna = cv.imread(r\"D:\\Image Processing\\Lenna.png\")\n",
    "gray_lenna = cv.cvtColor(lenna, cv.COLOR_BGR2GRAY)\n",
    "\n",
    "#Applying Random Dithering\n",
    "    #Fetch the Dimensions of the Gray Image\n",
    "row, column = gray_lenna.shape\n",
    "gray_levels = 255\n",
    "dithering_filter = np.random.randint(1, 256, (512,512),dtype=np.uint8)\n",
    "output_image = cv.subtract(gray_lenna, dithering_filter)\n",
    "\n",
    "    #Converting image to binary values\n",
    "_,resultant_image = cv.threshold(output_image, 0, 255, cv.THRESH_BINARY)\n",
    "\n",
    "\n",
    "#Print the resultant filtered image\n",
    "cv.imshow(\"Original Image\", gray_lenna)\n",
    "cv.imshow(\"Filtered Image\", output_image)"
   ]
  },
  {
   "cell_type": "code",
   "execution_count": null,
   "metadata": {
    "collapsed": true
   },
   "outputs": [],
   "source": []
  },
  {
   "cell_type": "code",
   "execution_count": null,
   "metadata": {
    "collapsed": true
   },
   "outputs": [],
   "source": []
  }
 ],
 "metadata": {
  "kernelspec": {
   "display_name": "Python [Root]",
   "language": "python",
   "name": "Python [Root]"
  },
  "language_info": {
   "codemirror_mode": {
    "name": "ipython",
    "version": 3
   },
   "file_extension": ".py",
   "mimetype": "text/x-python",
   "name": "python",
   "nbconvert_exporter": "python",
   "pygments_lexer": "ipython3",
   "version": "3.5.2"
  }
 },
 "nbformat": 4,
 "nbformat_minor": 0
}
